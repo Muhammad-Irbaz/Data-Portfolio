{
 "cells": [
  {
   "cell_type": "markdown",
   "metadata": {},
   "source": [
    "# Data Cleaning Project 2:"
   ]
  },
  {
   "cell_type": "code",
   "execution_count": 1,
   "metadata": {},
   "outputs": [],
   "source": [
    "# Importing libraries \n",
    "\n",
    "import pandas as pd\n",
    "import numpy as np\n",
    "import matplotlib.pyplot as plt\n",
    "import seaborn as sns"
   ]
  },
  {
   "cell_type": "code",
   "execution_count": 2,
   "metadata": {},
   "outputs": [
    {
     "data": {
      "text/html": [
       "<div>\n",
       "<style scoped>\n",
       "    .dataframe tbody tr th:only-of-type {\n",
       "        vertical-align: middle;\n",
       "    }\n",
       "\n",
       "    .dataframe tbody tr th {\n",
       "        vertical-align: top;\n",
       "    }\n",
       "\n",
       "    .dataframe thead th {\n",
       "        text-align: right;\n",
       "    }\n",
       "</style>\n",
       "<table border=\"1\" class=\"dataframe\">\n",
       "  <thead>\n",
       "    <tr style=\"text-align: right;\">\n",
       "      <th></th>\n",
       "      <th>Date</th>\n",
       "      <th>Company</th>\n",
       "      <th>Person Name</th>\n",
       "      <th>Room number</th>\n",
       "    </tr>\n",
       "  </thead>\n",
       "  <tbody>\n",
       "    <tr>\n",
       "      <th>0</th>\n",
       "      <td>1-Jan-2022</td>\n",
       "      <td>Avamba</td>\n",
       "      <td>Anatole Ridehalgh</td>\n",
       "      <td>4008.0</td>\n",
       "    </tr>\n",
       "    <tr>\n",
       "      <th>1</th>\n",
       "      <td>1-Jan-2022</td>\n",
       "      <td>Fatz</td>\n",
       "      <td>Aldrich McKevin</td>\n",
       "      <td>2002.0</td>\n",
       "    </tr>\n",
       "    <tr>\n",
       "      <th>2</th>\n",
       "      <td>1-Jan-2022</td>\n",
       "      <td>Leexo</td>\n",
       "      <td>Stanley Hadrill</td>\n",
       "      <td>4012.0</td>\n",
       "    </tr>\n",
       "    <tr>\n",
       "      <th>3</th>\n",
       "      <td>Hotels</td>\n",
       "      <td>NaN</td>\n",
       "      <td>NaN</td>\n",
       "      <td>NaN</td>\n",
       "    </tr>\n",
       "    <tr>\n",
       "      <th>4</th>\n",
       "      <td>1-Jan-2022</td>\n",
       "      <td>Rhyzio</td>\n",
       "      <td>Lyndell Tice</td>\n",
       "      <td>1006.0</td>\n",
       "    </tr>\n",
       "  </tbody>\n",
       "</table>\n",
       "</div>"
      ],
      "text/plain": [
       "         Date Company        Person Name  Room number\n",
       "0  1-Jan-2022  Avamba  Anatole Ridehalgh       4008.0\n",
       "1  1-Jan-2022    Fatz    Aldrich McKevin       2002.0\n",
       "2  1-Jan-2022   Leexo    Stanley Hadrill       4012.0\n",
       "3      Hotels     NaN                NaN          NaN\n",
       "4  1-Jan-2022  Rhyzio       Lyndell Tice       1006.0"
      ]
     },
     "execution_count": 2,
     "metadata": {},
     "output_type": "execute_result"
    }
   ],
   "source": [
    "# Loading the dataset\n",
    "\n",
    "df = pd.read_csv(\"hotel-booking-data.txt\", sep=\"\\t\")\n",
    "df.head()"
   ]
  },
  {
   "cell_type": "code",
   "execution_count": 3,
   "metadata": {},
   "outputs": [
    {
     "data": {
      "text/plain": [
       "Index(['Date', 'Company', 'Person Name', 'Room number'], dtype='object')"
      ]
     },
     "execution_count": 3,
     "metadata": {},
     "output_type": "execute_result"
    }
   ],
   "source": [
    "# Column names\n",
    "\n",
    "df.columns"
   ]
  },
  {
   "cell_type": "code",
   "execution_count": 4,
   "metadata": {},
   "outputs": [
    {
     "name": "stdout",
     "output_type": "stream",
     "text": [
      "<class 'pandas.core.frame.DataFrame'>\n",
      "RangeIndex: 195 entries, 0 to 194\n",
      "Data columns (total 4 columns):\n",
      " #   Column       Non-Null Count  Dtype  \n",
      "---  ------       --------------  -----  \n",
      " 0   Date         195 non-null    object \n",
      " 1   Company      134 non-null    object \n",
      " 2   Person Name  153 non-null    object \n",
      " 3   Room number  153 non-null    float64\n",
      "dtypes: float64(1), object(3)\n",
      "memory usage: 6.2+ KB\n"
     ]
    }
   ],
   "source": [
    "# Information of the dataset\n",
    "\n",
    "df.info()"
   ]
  },
  {
   "cell_type": "code",
   "execution_count": 5,
   "metadata": {},
   "outputs": [
    {
     "data": {
      "text/plain": [
       "Date            0\n",
       "Company        61\n",
       "Person Name    42\n",
       "Room number    42\n",
       "dtype: int64"
      ]
     },
     "execution_count": 5,
     "metadata": {},
     "output_type": "execute_result"
    }
   ],
   "source": [
    "# Missing Values\n",
    "\n",
    "df.isnull().sum()"
   ]
  },
  {
   "cell_type": "code",
   "execution_count": 14,
   "metadata": {},
   "outputs": [
    {
     "data": {
      "text/html": [
       "<div>\n",
       "<style scoped>\n",
       "    .dataframe tbody tr th:only-of-type {\n",
       "        vertical-align: middle;\n",
       "    }\n",
       "\n",
       "    .dataframe tbody tr th {\n",
       "        vertical-align: top;\n",
       "    }\n",
       "\n",
       "    .dataframe thead th {\n",
       "        text-align: right;\n",
       "    }\n",
       "</style>\n",
       "<table border=\"1\" class=\"dataframe\">\n",
       "  <thead>\n",
       "    <tr style=\"text-align: right;\">\n",
       "      <th></th>\n",
       "      <th>Room number</th>\n",
       "    </tr>\n",
       "  </thead>\n",
       "  <tbody>\n",
       "    <tr>\n",
       "      <th>count</th>\n",
       "      <td>134.000000</td>\n",
       "    </tr>\n",
       "    <tr>\n",
       "      <th>mean</th>\n",
       "      <td>2947.843284</td>\n",
       "    </tr>\n",
       "    <tr>\n",
       "      <th>std</th>\n",
       "      <td>1664.805780</td>\n",
       "    </tr>\n",
       "    <tr>\n",
       "      <th>min</th>\n",
       "      <td>1001.000000</td>\n",
       "    </tr>\n",
       "    <tr>\n",
       "      <th>25%</th>\n",
       "      <td>2001.000000</td>\n",
       "    </tr>\n",
       "    <tr>\n",
       "      <th>50%</th>\n",
       "      <td>3006.500000</td>\n",
       "    </tr>\n",
       "    <tr>\n",
       "      <th>75%</th>\n",
       "      <td>4007.750000</td>\n",
       "    </tr>\n",
       "    <tr>\n",
       "      <th>max</th>\n",
       "      <td>7002.000000</td>\n",
       "    </tr>\n",
       "  </tbody>\n",
       "</table>\n",
       "</div>"
      ],
      "text/plain": [
       "       Room number\n",
       "count   134.000000\n",
       "mean   2947.843284\n",
       "std    1664.805780\n",
       "min    1001.000000\n",
       "25%    2001.000000\n",
       "50%    3006.500000\n",
       "75%    4007.750000\n",
       "max    7002.000000"
      ]
     },
     "execution_count": 14,
     "metadata": {},
     "output_type": "execute_result"
    }
   ],
   "source": [
    "# Summary Statistics\n",
    "df.describe()"
   ]
  },
  {
   "cell_type": "markdown",
   "metadata": {},
   "source": [
    "- As it is a categorical data we cannot get the proper summary statistics for the dataset.\n",
    "- Hence, the **room number column** has float data type, its only generating statistics regarding that column."
   ]
  },
  {
   "cell_type": "code",
   "execution_count": 15,
   "metadata": {},
   "outputs": [
    {
     "data": {
      "text/plain": [
       "Leexo           3\n",
       "Fivechat        3\n",
       "Quinu           3\n",
       "Jabbersphere    2\n",
       "Twitterlist     2\n",
       "               ..\n",
       "Topiclounge     1\n",
       "Shufflebeat     1\n",
       "Skyvu           1\n",
       "Youspan         1\n",
       "Twitterworks    1\n",
       "Name: Company, Length: 114, dtype: int64"
      ]
     },
     "execution_count": 15,
     "metadata": {},
     "output_type": "execute_result"
    }
   ],
   "source": [
    "# Value count of companies by booking\n",
    "\n",
    "df[\"Company\"].value_counts()"
   ]
  },
  {
   "cell_type": "code",
   "execution_count": 16,
   "metadata": {},
   "outputs": [
    {
     "data": {
      "text/plain": [
       "array(['Avamba', 'Fatz', 'Leexo', 'Rhyzio', 'Eadel', 'Oozz', 'Innotype',\n",
       "       'Jayo', 'Riffpedia', 'Tazz', 'Browsezoom', 'Skinte', 'Twitterlist',\n",
       "       'Shuffletag', 'Geba', 'Flipopia', 'Topicblab', 'Feedmix',\n",
       "       'Skynoodle', 'Mita', 'Skinix', 'Aimbu', 'Babblestorm', 'Quinu',\n",
       "       'Dynazzy', 'Tagtune', 'Kimia', 'Centizu', 'Muxo', 'Dynabox',\n",
       "       'Skalith', 'Tagchat', 'Buzzdog', 'Zava', 'Ntags', 'Youspan',\n",
       "       'Skyvu', 'Brightdog', 'Shufflebeat', 'Fivechat', 'Topiclounge',\n",
       "       'Youopia', 'Dabjam', 'Kazio', 'Mycat', 'Meevee', 'Skibox',\n",
       "       'Topiczoom', 'Realfire', 'Devshare', 'Devcast', 'Eare', 'Dabshots',\n",
       "       'BlogXS', 'Rhycero', 'Meembee', 'Tagopia', 'Feedspan', 'Lajo',\n",
       "       'Ainyx', 'Riffpath', 'Rhynyx', 'Feedfish', 'Kwinu', 'Skinder',\n",
       "       'Jabbersphere', 'Tambee', 'Yadel', 'Flashpoint', 'Vipe',\n",
       "       'Edgeclub', 'Jatri', 'Yozio', 'Oloo', 'Dazzlesphere', 'Yabox',\n",
       "       'Miboo', 'Leenti', 'Quire', 'Meetz', 'Realcube', 'Fiveclub',\n",
       "       'Buzzster', 'Camido', 'Buzzbean', 'Divavu', 'Vinder', 'Aimbo',\n",
       "       'Demivee', 'Oyope', 'Feedbug', 'Divanoodle', 'Avamm', 'Yodo',\n",
       "       'Photobean', 'Brightbean', 'Bubbletube', 'Wordpedia', 'Devbug',\n",
       "       'Rhynoodle', 'Zooxo', 'Zoomdog', 'Centidel', 'Thoughtbridge',\n",
       "       'Voolia', 'Youfeed', 'Voomm', 'Vitz', 'Jaxworks', 'Twitterwire',\n",
       "       'Skiba', 'Tagpad', 'Innojam', 'Twitterworks'], dtype=object)"
      ]
     },
     "execution_count": 16,
     "metadata": {},
     "output_type": "execute_result"
    }
   ],
   "source": [
    "# Unique Companies\n",
    "df[\"Company\"].unique()"
   ]
  },
  {
   "cell_type": "markdown",
   "metadata": {},
   "source": [
    "- By looking into the dataset, it is established that the nan values' corresponding value in date column might be representing the method/mode of booking the rooms.\n",
    "- For the above measure, we will try to make a new column naming *mode of booking* or *booking method*. "
   ]
  },
  {
   "cell_type": "code",
   "execution_count": 6,
   "metadata": {},
   "outputs": [],
   "source": [
    "# Making a new column and filling the column with nan values\n",
    "# Condition\n",
    "con = df[\"Room number\"].isna()\n",
    "# Filling the column with date value otherwise with nan values\n",
    "df[\"Mode_of_booking\"] = np.where(con, df[\"Date\"], np.nan)"
   ]
  },
  {
   "cell_type": "code",
   "execution_count": 7,
   "metadata": {},
   "outputs": [
    {
     "data": {
      "text/html": [
       "<div>\n",
       "<style scoped>\n",
       "    .dataframe tbody tr th:only-of-type {\n",
       "        vertical-align: middle;\n",
       "    }\n",
       "\n",
       "    .dataframe tbody tr th {\n",
       "        vertical-align: top;\n",
       "    }\n",
       "\n",
       "    .dataframe thead th {\n",
       "        text-align: right;\n",
       "    }\n",
       "</style>\n",
       "<table border=\"1\" class=\"dataframe\">\n",
       "  <thead>\n",
       "    <tr style=\"text-align: right;\">\n",
       "      <th></th>\n",
       "      <th>Date</th>\n",
       "      <th>Company</th>\n",
       "      <th>Person Name</th>\n",
       "      <th>Room number</th>\n",
       "      <th>Mode_of_booking</th>\n",
       "    </tr>\n",
       "  </thead>\n",
       "  <tbody>\n",
       "    <tr>\n",
       "      <th>0</th>\n",
       "      <td>1-Jan-2022</td>\n",
       "      <td>Avamba</td>\n",
       "      <td>Anatole Ridehalgh</td>\n",
       "      <td>4008.0</td>\n",
       "      <td>NaN</td>\n",
       "    </tr>\n",
       "    <tr>\n",
       "      <th>1</th>\n",
       "      <td>1-Jan-2022</td>\n",
       "      <td>Fatz</td>\n",
       "      <td>Aldrich McKevin</td>\n",
       "      <td>2002.0</td>\n",
       "      <td>NaN</td>\n",
       "    </tr>\n",
       "    <tr>\n",
       "      <th>2</th>\n",
       "      <td>1-Jan-2022</td>\n",
       "      <td>Leexo</td>\n",
       "      <td>Stanley Hadrill</td>\n",
       "      <td>4012.0</td>\n",
       "      <td>NaN</td>\n",
       "    </tr>\n",
       "    <tr>\n",
       "      <th>3</th>\n",
       "      <td>Hotels</td>\n",
       "      <td>NaN</td>\n",
       "      <td>NaN</td>\n",
       "      <td>NaN</td>\n",
       "      <td>Hotels</td>\n",
       "    </tr>\n",
       "    <tr>\n",
       "      <th>4</th>\n",
       "      <td>1-Jan-2022</td>\n",
       "      <td>Rhyzio</td>\n",
       "      <td>Lyndell Tice</td>\n",
       "      <td>1006.0</td>\n",
       "      <td>NaN</td>\n",
       "    </tr>\n",
       "    <tr>\n",
       "      <th>...</th>\n",
       "      <td>...</td>\n",
       "      <td>...</td>\n",
       "      <td>...</td>\n",
       "      <td>...</td>\n",
       "      <td>...</td>\n",
       "    </tr>\n",
       "    <tr>\n",
       "      <th>190</th>\n",
       "      <td>Cleartrip</td>\n",
       "      <td>NaN</td>\n",
       "      <td>NaN</td>\n",
       "      <td>NaN</td>\n",
       "      <td>Cleartrip</td>\n",
       "    </tr>\n",
       "    <tr>\n",
       "      <th>191</th>\n",
       "      <td>1-Jan-2022</td>\n",
       "      <td>Fivechat</td>\n",
       "      <td>Corabella Saye</td>\n",
       "      <td>4008.0</td>\n",
       "      <td>NaN</td>\n",
       "    </tr>\n",
       "    <tr>\n",
       "      <th>192</th>\n",
       "      <td>1-Jan-2022</td>\n",
       "      <td>Innojam</td>\n",
       "      <td>Leandra Potapczuk</td>\n",
       "      <td>5002.0</td>\n",
       "      <td>NaN</td>\n",
       "    </tr>\n",
       "    <tr>\n",
       "      <th>193</th>\n",
       "      <td>1-Jan-2022</td>\n",
       "      <td>Twitterworks</td>\n",
       "      <td>Valentia Ledson</td>\n",
       "      <td>1010.0</td>\n",
       "      <td>NaN</td>\n",
       "    </tr>\n",
       "    <tr>\n",
       "      <th>194</th>\n",
       "      <td>Hotels</td>\n",
       "      <td>NaN</td>\n",
       "      <td>NaN</td>\n",
       "      <td>NaN</td>\n",
       "      <td>Hotels</td>\n",
       "    </tr>\n",
       "  </tbody>\n",
       "</table>\n",
       "<p>195 rows × 5 columns</p>\n",
       "</div>"
      ],
      "text/plain": [
       "           Date       Company        Person Name  Room number Mode_of_booking\n",
       "0    1-Jan-2022        Avamba  Anatole Ridehalgh       4008.0             NaN\n",
       "1    1-Jan-2022          Fatz    Aldrich McKevin       2002.0             NaN\n",
       "2    1-Jan-2022         Leexo    Stanley Hadrill       4012.0             NaN\n",
       "3        Hotels           NaN                NaN          NaN          Hotels\n",
       "4    1-Jan-2022        Rhyzio       Lyndell Tice       1006.0             NaN\n",
       "..          ...           ...                ...          ...             ...\n",
       "190   Cleartrip           NaN                NaN          NaN       Cleartrip\n",
       "191  1-Jan-2022      Fivechat     Corabella Saye       4008.0             NaN\n",
       "192  1-Jan-2022       Innojam  Leandra Potapczuk       5002.0             NaN\n",
       "193  1-Jan-2022  Twitterworks    Valentia Ledson       1010.0             NaN\n",
       "194      Hotels           NaN                NaN          NaN          Hotels\n",
       "\n",
       "[195 rows x 5 columns]"
      ]
     },
     "execution_count": 7,
     "metadata": {},
     "output_type": "execute_result"
    }
   ],
   "source": [
    "df"
   ]
  },
  {
   "cell_type": "code",
   "execution_count": 8,
   "metadata": {},
   "outputs": [],
   "source": [
    "# Filling the nan values with the text values in date column\n",
    "df[\"Mode_of_booking\"].bfill(inplace=True)"
   ]
  },
  {
   "cell_type": "code",
   "execution_count": 9,
   "metadata": {},
   "outputs": [
    {
     "data": {
      "text/html": [
       "<div>\n",
       "<style scoped>\n",
       "    .dataframe tbody tr th:only-of-type {\n",
       "        vertical-align: middle;\n",
       "    }\n",
       "\n",
       "    .dataframe tbody tr th {\n",
       "        vertical-align: top;\n",
       "    }\n",
       "\n",
       "    .dataframe thead th {\n",
       "        text-align: right;\n",
       "    }\n",
       "</style>\n",
       "<table border=\"1\" class=\"dataframe\">\n",
       "  <thead>\n",
       "    <tr style=\"text-align: right;\">\n",
       "      <th></th>\n",
       "      <th>Date</th>\n",
       "      <th>Company</th>\n",
       "      <th>Person Name</th>\n",
       "      <th>Room number</th>\n",
       "      <th>Mode_of_booking</th>\n",
       "    </tr>\n",
       "  </thead>\n",
       "  <tbody>\n",
       "    <tr>\n",
       "      <th>0</th>\n",
       "      <td>1-Jan-2022</td>\n",
       "      <td>Avamba</td>\n",
       "      <td>Anatole Ridehalgh</td>\n",
       "      <td>4008.0</td>\n",
       "      <td>Hotels</td>\n",
       "    </tr>\n",
       "    <tr>\n",
       "      <th>1</th>\n",
       "      <td>1-Jan-2022</td>\n",
       "      <td>Fatz</td>\n",
       "      <td>Aldrich McKevin</td>\n",
       "      <td>2002.0</td>\n",
       "      <td>Hotels</td>\n",
       "    </tr>\n",
       "    <tr>\n",
       "      <th>2</th>\n",
       "      <td>1-Jan-2022</td>\n",
       "      <td>Leexo</td>\n",
       "      <td>Stanley Hadrill</td>\n",
       "      <td>4012.0</td>\n",
       "      <td>Hotels</td>\n",
       "    </tr>\n",
       "    <tr>\n",
       "      <th>3</th>\n",
       "      <td>Hotels</td>\n",
       "      <td>NaN</td>\n",
       "      <td>NaN</td>\n",
       "      <td>NaN</td>\n",
       "      <td>Hotels</td>\n",
       "    </tr>\n",
       "    <tr>\n",
       "      <th>4</th>\n",
       "      <td>1-Jan-2022</td>\n",
       "      <td>Rhyzio</td>\n",
       "      <td>Lyndell Tice</td>\n",
       "      <td>1006.0</td>\n",
       "      <td>Booking</td>\n",
       "    </tr>\n",
       "    <tr>\n",
       "      <th>...</th>\n",
       "      <td>...</td>\n",
       "      <td>...</td>\n",
       "      <td>...</td>\n",
       "      <td>...</td>\n",
       "      <td>...</td>\n",
       "    </tr>\n",
       "    <tr>\n",
       "      <th>190</th>\n",
       "      <td>Cleartrip</td>\n",
       "      <td>NaN</td>\n",
       "      <td>NaN</td>\n",
       "      <td>NaN</td>\n",
       "      <td>Cleartrip</td>\n",
       "    </tr>\n",
       "    <tr>\n",
       "      <th>191</th>\n",
       "      <td>1-Jan-2022</td>\n",
       "      <td>Fivechat</td>\n",
       "      <td>Corabella Saye</td>\n",
       "      <td>4008.0</td>\n",
       "      <td>Hotels</td>\n",
       "    </tr>\n",
       "    <tr>\n",
       "      <th>192</th>\n",
       "      <td>1-Jan-2022</td>\n",
       "      <td>Innojam</td>\n",
       "      <td>Leandra Potapczuk</td>\n",
       "      <td>5002.0</td>\n",
       "      <td>Hotels</td>\n",
       "    </tr>\n",
       "    <tr>\n",
       "      <th>193</th>\n",
       "      <td>1-Jan-2022</td>\n",
       "      <td>Twitterworks</td>\n",
       "      <td>Valentia Ledson</td>\n",
       "      <td>1010.0</td>\n",
       "      <td>Hotels</td>\n",
       "    </tr>\n",
       "    <tr>\n",
       "      <th>194</th>\n",
       "      <td>Hotels</td>\n",
       "      <td>NaN</td>\n",
       "      <td>NaN</td>\n",
       "      <td>NaN</td>\n",
       "      <td>Hotels</td>\n",
       "    </tr>\n",
       "  </tbody>\n",
       "</table>\n",
       "<p>195 rows × 5 columns</p>\n",
       "</div>"
      ],
      "text/plain": [
       "           Date       Company        Person Name  Room number Mode_of_booking\n",
       "0    1-Jan-2022        Avamba  Anatole Ridehalgh       4008.0          Hotels\n",
       "1    1-Jan-2022          Fatz    Aldrich McKevin       2002.0          Hotels\n",
       "2    1-Jan-2022         Leexo    Stanley Hadrill       4012.0          Hotels\n",
       "3        Hotels           NaN                NaN          NaN          Hotels\n",
       "4    1-Jan-2022        Rhyzio       Lyndell Tice       1006.0         Booking\n",
       "..          ...           ...                ...          ...             ...\n",
       "190   Cleartrip           NaN                NaN          NaN       Cleartrip\n",
       "191  1-Jan-2022      Fivechat     Corabella Saye       4008.0          Hotels\n",
       "192  1-Jan-2022       Innojam  Leandra Potapczuk       5002.0          Hotels\n",
       "193  1-Jan-2022  Twitterworks    Valentia Ledson       1010.0          Hotels\n",
       "194      Hotels           NaN                NaN          NaN          Hotels\n",
       "\n",
       "[195 rows x 5 columns]"
      ]
     },
     "execution_count": 9,
     "metadata": {},
     "output_type": "execute_result"
    }
   ],
   "source": [
    "df"
   ]
  },
  {
   "cell_type": "markdown",
   "metadata": {},
   "source": [
    "- As we have filled the nan values and mentioned the data in a sequence, we can now drop the nan values."
   ]
  },
  {
   "cell_type": "code",
   "execution_count": 10,
   "metadata": {},
   "outputs": [],
   "source": [
    "# Dropping the missing values\n",
    "\n",
    "df.dropna(inplace=True)"
   ]
  },
  {
   "cell_type": "code",
   "execution_count": 11,
   "metadata": {},
   "outputs": [
    {
     "data": {
      "text/html": [
       "<div>\n",
       "<style scoped>\n",
       "    .dataframe tbody tr th:only-of-type {\n",
       "        vertical-align: middle;\n",
       "    }\n",
       "\n",
       "    .dataframe tbody tr th {\n",
       "        vertical-align: top;\n",
       "    }\n",
       "\n",
       "    .dataframe thead th {\n",
       "        text-align: right;\n",
       "    }\n",
       "</style>\n",
       "<table border=\"1\" class=\"dataframe\">\n",
       "  <thead>\n",
       "    <tr style=\"text-align: right;\">\n",
       "      <th></th>\n",
       "      <th>Date</th>\n",
       "      <th>Company</th>\n",
       "      <th>Person Name</th>\n",
       "      <th>Room number</th>\n",
       "      <th>Mode_of_booking</th>\n",
       "    </tr>\n",
       "  </thead>\n",
       "  <tbody>\n",
       "    <tr>\n",
       "      <th>0</th>\n",
       "      <td>1-Jan-2022</td>\n",
       "      <td>Avamba</td>\n",
       "      <td>Anatole Ridehalgh</td>\n",
       "      <td>4008.0</td>\n",
       "      <td>Hotels</td>\n",
       "    </tr>\n",
       "    <tr>\n",
       "      <th>1</th>\n",
       "      <td>1-Jan-2022</td>\n",
       "      <td>Fatz</td>\n",
       "      <td>Aldrich McKevin</td>\n",
       "      <td>2002.0</td>\n",
       "      <td>Hotels</td>\n",
       "    </tr>\n",
       "    <tr>\n",
       "      <th>2</th>\n",
       "      <td>1-Jan-2022</td>\n",
       "      <td>Leexo</td>\n",
       "      <td>Stanley Hadrill</td>\n",
       "      <td>4012.0</td>\n",
       "      <td>Hotels</td>\n",
       "    </tr>\n",
       "    <tr>\n",
       "      <th>4</th>\n",
       "      <td>1-Jan-2022</td>\n",
       "      <td>Rhyzio</td>\n",
       "      <td>Lyndell Tice</td>\n",
       "      <td>1006.0</td>\n",
       "      <td>Booking</td>\n",
       "    </tr>\n",
       "    <tr>\n",
       "      <th>5</th>\n",
       "      <td>1-Jan-2022</td>\n",
       "      <td>Eadel</td>\n",
       "      <td>Broderic Handscombe</td>\n",
       "      <td>3015.0</td>\n",
       "      <td>Booking</td>\n",
       "    </tr>\n",
       "    <tr>\n",
       "      <th>...</th>\n",
       "      <td>...</td>\n",
       "      <td>...</td>\n",
       "      <td>...</td>\n",
       "      <td>...</td>\n",
       "      <td>...</td>\n",
       "    </tr>\n",
       "    <tr>\n",
       "      <th>186</th>\n",
       "      <td>1-Jan-2022</td>\n",
       "      <td>Tagpad</td>\n",
       "      <td>Stephani Lafee</td>\n",
       "      <td>1015.0</td>\n",
       "      <td>Expedia</td>\n",
       "    </tr>\n",
       "    <tr>\n",
       "      <th>187</th>\n",
       "      <td>1-Jan-2022</td>\n",
       "      <td>Meevee</td>\n",
       "      <td>Victoria Lavery</td>\n",
       "      <td>7002.0</td>\n",
       "      <td>Expedia</td>\n",
       "    </tr>\n",
       "    <tr>\n",
       "      <th>191</th>\n",
       "      <td>1-Jan-2022</td>\n",
       "      <td>Fivechat</td>\n",
       "      <td>Corabella Saye</td>\n",
       "      <td>4008.0</td>\n",
       "      <td>Hotels</td>\n",
       "    </tr>\n",
       "    <tr>\n",
       "      <th>192</th>\n",
       "      <td>1-Jan-2022</td>\n",
       "      <td>Innojam</td>\n",
       "      <td>Leandra Potapczuk</td>\n",
       "      <td>5002.0</td>\n",
       "      <td>Hotels</td>\n",
       "    </tr>\n",
       "    <tr>\n",
       "      <th>193</th>\n",
       "      <td>1-Jan-2022</td>\n",
       "      <td>Twitterworks</td>\n",
       "      <td>Valentia Ledson</td>\n",
       "      <td>1010.0</td>\n",
       "      <td>Hotels</td>\n",
       "    </tr>\n",
       "  </tbody>\n",
       "</table>\n",
       "<p>134 rows × 5 columns</p>\n",
       "</div>"
      ],
      "text/plain": [
       "           Date       Company          Person Name  Room number  \\\n",
       "0    1-Jan-2022        Avamba    Anatole Ridehalgh       4008.0   \n",
       "1    1-Jan-2022          Fatz      Aldrich McKevin       2002.0   \n",
       "2    1-Jan-2022         Leexo      Stanley Hadrill       4012.0   \n",
       "4    1-Jan-2022        Rhyzio         Lyndell Tice       1006.0   \n",
       "5    1-Jan-2022         Eadel  Broderic Handscombe       3015.0   \n",
       "..          ...           ...                  ...          ...   \n",
       "186  1-Jan-2022        Tagpad       Stephani Lafee       1015.0   \n",
       "187  1-Jan-2022        Meevee      Victoria Lavery       7002.0   \n",
       "191  1-Jan-2022      Fivechat       Corabella Saye       4008.0   \n",
       "192  1-Jan-2022       Innojam    Leandra Potapczuk       5002.0   \n",
       "193  1-Jan-2022  Twitterworks      Valentia Ledson       1010.0   \n",
       "\n",
       "    Mode_of_booking  \n",
       "0            Hotels  \n",
       "1            Hotels  \n",
       "2            Hotels  \n",
       "4           Booking  \n",
       "5           Booking  \n",
       "..              ...  \n",
       "186         Expedia  \n",
       "187         Expedia  \n",
       "191          Hotels  \n",
       "192          Hotels  \n",
       "193          Hotels  \n",
       "\n",
       "[134 rows x 5 columns]"
      ]
     },
     "execution_count": 11,
     "metadata": {},
     "output_type": "execute_result"
    }
   ],
   "source": [
    "df"
   ]
  },
  {
   "cell_type": "code",
   "execution_count": 13,
   "metadata": {},
   "outputs": [
    {
     "data": {
      "text/plain": [
       "Date               0\n",
       "Company            0\n",
       "Person Name        0\n",
       "Room number        0\n",
       "Mode_of_booking    0\n",
       "dtype: int64"
      ]
     },
     "execution_count": 13,
     "metadata": {},
     "output_type": "execute_result"
    }
   ],
   "source": [
    "# Checking for missing values\n",
    "\n",
    "df.isnull().sum()"
   ]
  },
  {
   "cell_type": "markdown",
   "metadata": {},
   "source": [
    "- After dropping the missing values we are left with **134 rows/instances** and **5 columns/variables**. "
   ]
  }
 ],
 "metadata": {
  "kernelspec": {
   "display_name": "Python 3.10.5 64-bit",
   "language": "python",
   "name": "python3"
  },
  "language_info": {
   "codemirror_mode": {
    "name": "ipython",
    "version": 3
   },
   "file_extension": ".py",
   "mimetype": "text/x-python",
   "name": "python",
   "nbconvert_exporter": "python",
   "pygments_lexer": "ipython3",
   "version": "3.10.5"
  },
  "orig_nbformat": 4,
  "vscode": {
   "interpreter": {
    "hash": "d424d5778208ab1d0bf245b8cf56d0add48382fc1b816c362415a689958fc521"
   }
  }
 },
 "nbformat": 4,
 "nbformat_minor": 2
}
